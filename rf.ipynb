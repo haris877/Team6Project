

import numpy as np
import matplotlib.pyplot as plt
import pandas as pd

df = pd.read_csv('vgsales.csv')

df

#Filter years to 2000-2019
df2 = df[(df['Year']>=2010.0) & (df['Year']<=2019.0)]

df2.Genre.value_counts()

pro = df2.groupby(['Genre'])['Global_Sales'].sum().sort_values(ascending=False)[:40]

pro

progs = pd.DataFrame(
        [
        ['Action',1,673.50],
        ['Sports',2,324.80],
        ['Shooter',3,462.80],
        ['Roleplaying',4,305.72],
        ['Platform',5,120.69],
            ['Misc',6,238.05],
            ['Racing',7,123.69],
            ['Fighting',8,82.08],
            ['Simulation',9,71.04],
            ['Puzzle',10,21.24],
            ['Adventure',11,61.05],
            ['Strategy',12,35.90]
    ],
index=["Action", "Sports", "Shooter", "Role-Playing", "Platform", "Misc", "Racing", "Fighting", "Simulation", "Puzzle", "Adventure", "Strategy"],
columns=['Genre','Level','GLSales'])

X = progs.iloc[:, 1:-1].values
y = progs.iloc[:, -1].values


progs

X
y

X

# Ska använda RandomForestRegressor
from sklearn.ensemble import RandomForestRegressor

regressor = RandomForestRegressor(n_estimators = 12, random_state = 0)

regressor.fit(X, y)




regressor.predict([[6.5]])

X_grid = np.arange(min(X), max(X), 0.01)
X_grid = X_grid.reshape((len(X_grid), 1))
plt.scatter(X, y, color = 'red')
plt.plot(X_grid, regressor.predict(X_grid), color = 'blue')
plt.title('Expected Sales')
plt.xlabel('Category')
plt.ylabel('GlobalSales')
plt.show()


# Om vi väljer Category 6 = misc and estimate the predicated sales for the last 9 years we can devide it by 9

405300000 / 9

## and devide by the number of Misc created in the last 9 years 

21459916 / 563

## The estimated sales for a Misc game published worldwide would be : 38117 for 1 year